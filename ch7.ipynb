{
 "cells": [
  {
   "cell_type": "code",
   "execution_count": 29,
   "metadata": {},
   "outputs": [
    {
     "name": "stdout",
     "output_type": "stream",
     "text": [
      "[[2 1 2 0 1]\n",
      " [0 2 1 1 2]\n",
      " [0 1 2 2 0]\n",
      " [2 1 2 0 2]\n",
      " [1 2 1 0 1]]\n"
     ]
    }
   ],
   "source": [
    "import numpy as np\n",
    "import math\n",
    "import numpy as np\n",
    "\n",
    "arrayex = [[2, 1, 2, 0, 1],\n",
    "           [0, 2, 1, 1, 2],\n",
    "           [0, 1, 2, 2, 0],\n",
    "           [2, 1, 2, 0, 2],\n",
    "           [1, 2, 1, 0, 1]]\n",
    "\n",
    "np_arrayex = np.array(arrayex)\n",
    "\n",
    "print(np_arrayex)\n",
    "\n",
    "\n"
   ]
  },
  {
   "cell_type": "code",
   "execution_count": 30,
   "metadata": {},
   "outputs": [
    {
     "name": "stdout",
     "output_type": "stream",
     "text": [
      "Cd :\n",
      "[[0 3 2]\n",
      " [1 1 5]\n",
      " [3 4 1]]\n",
      "sum 20\n",
      "nd :\n",
      "[[0.   0.15 0.1 ]\n",
      " [0.05 0.05 0.25]\n",
      " [0.15 0.2  0.05]]\n",
      "Ndi : [0.25 0.35 0.4 ]\n",
      "Ndj : [0.2 0.4 0.4]\n",
      "x2d :  0.3718750000000002\n"
     ]
    }
   ],
   "source": [
    "def C10(array , num):\n",
    "    for i in range(0, len(array)):\n",
    "        for j in range(0, len(array[i])-1):\n",
    "            cd[array[i][j]][array[i][j+1]] += 1\n",
    "\n",
    "num = 3\n",
    "cd = np.zeros((num, num), dtype=np.uint8)\n",
    "\n",
    "C10(arrayex, num)\n",
    "print(\"Cd :\")\n",
    "print(cd)\n",
    "sum = np.sum(cd)\n",
    "print(\"sum\",sum)\n",
    "nd = cd/sum\n",
    "print(\"nd :\")\n",
    "print(nd)\n",
    "\n",
    "Ndi = np.sum(nd, axis=1)\n",
    "print(\"Ndi :\" , Ndi)\n",
    "Ndj = np.sum(nd, axis=0)\n",
    "print(\"Ndj :\" , Ndj)\n",
    "\n",
    "\n",
    "x2d = 0\n",
    "for i in range(0, len(nd)):\n",
    "    for j in range(0, len(nd[i])):\n",
    "        x2d = x2d + pow(nd[i][j], 2)/(Ndi[i]*Ndj[j]) \n",
    "        # print(\"x2 : \", x2)\n",
    "x2d = x2d - 1\n",
    "print(\"x2d : \", x2d)"
   ]
  },
  {
   "cell_type": "code",
   "execution_count": 31,
   "metadata": {},
   "outputs": [
    {
     "name": "stdout",
     "output_type": "stream",
     "text": [
      "energy :  0.165\n",
      "entropy :  1.9172155185650601\n",
      "contrast :  1.6500000000000001\n",
      "Homogeneity :  0.5083333333333334\n"
     ]
    }
   ],
   "source": [
    "import math\n",
    "\n",
    "energy = 0\n",
    "entropy = 0\n",
    "contrast = 0\n",
    "Homogeneity = 0\n",
    "Corralation = 0\n",
    "for i in range(0, len(nd)):\n",
    "    for j in range(0, len(nd[i])):\n",
    "\n",
    "        energy = energy + pow(nd[i][j], 2)\n",
    "\n",
    "        if nd[i][j] > 0:\n",
    "            entropy += nd[i][j] * math.log(nd[i][j])\n",
    "        else:\n",
    "            entropy += 0\n",
    "\n",
    "        contrast = contrast + (i-j)*(i-j)*nd[i][j]\n",
    "\n",
    "        Homogeneity = Homogeneity + nd[i][j]/(1+abs(i-j))\n",
    "\n",
    "        \n",
    "\n",
    "print(\"energy : \", energy)\n",
    "print(\"entropy : \", -1*entropy)\n",
    "print(\"contrast : \", contrast)\n",
    "print(\"Homogeneity : \", Homogeneity)\n",
    "\n"
   ]
  }
 ],
 "metadata": {
  "kernelspec": {
   "display_name": "Python 3",
   "language": "python",
   "name": "python3"
  },
  "language_info": {
   "codemirror_mode": {
    "name": "ipython",
    "version": 3
   },
   "file_extension": ".py",
   "mimetype": "text/x-python",
   "name": "python",
   "nbconvert_exporter": "python",
   "pygments_lexer": "ipython3",
   "version": "3.12.0"
  }
 },
 "nbformat": 4,
 "nbformat_minor": 2
}
