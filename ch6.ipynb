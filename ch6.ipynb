{
 "cells": [
  {
   "cell_type": "code",
   "execution_count": 13,
   "metadata": {},
   "outputs": [
    {
     "name": "stdout",
     "output_type": "stream",
     "text": [
      "RGB: (120, 180, 0)\n",
      "CMY: (135, 75, 255)\n",
      "HSI: (80, 1.0, 180)\n",
      "YIQ: (142.2, 21.6, -68.4)\n"
     ]
    }
   ],
   "source": [
    "def transform(Rn, Gn, Bn, i):\n",
    "    R_G_B = i*3\n",
    "\n",
    "    R = int(Rn*R_G_B)\n",
    "    G = int(Gn*R_G_B)\n",
    "    B = int(Bn*R_G_B)\n",
    "\n",
    "    C = int(255-R)\n",
    "    M = int(255-G)\n",
    "    Y = int(255-B)\n",
    "\n",
    "\n",
    "    Max = max(R, G, B)\n",
    "    Min = min(R, G, B)\n",
    "\n",
    "    if Max == R:\n",
    "        H = int(60*(G-B))/(Max-Min)\n",
    "    elif Max == G:\n",
    "        H = int(120 + ((60*(B-R))/(Max-Min)))\n",
    "    elif Max == B:\n",
    "        H = int(240 + ((60*(R-G))/(Max-Min)))\n",
    "\n",
    "    if Max == 0:\n",
    "        S = 0\n",
    "    else:\n",
    "        S = (Max - Min) / Max\n",
    "\n",
    "\n",
    "\n",
    "    Y1 = round((0.3 * R) + (0.59 * G) + (0.11 * B), 2)\n",
    "    I = round((0.6 * R) - (0.28 * G) - (0.32 * B), 2)\n",
    "    Q = round((0.21 * R) - (0.52 * G) + (0.31 * B), 2)\n",
    "\n",
    "    return (R, G, B), (C, M, Y), (H, S, Max), (Y1, I, Q)\n",
    "\n",
    "# Example usage:\n",
    "Rn = 0.4\n",
    "Gn = 0.6\n",
    "Bn = 0\n",
    "i = 100\n",
    "\n",
    "rgb, cmy, hsi, yiq = transform(Rn, Gn, Bn, i)\n",
    "print(\"RGB:\", rgb)\n",
    "print(\"CMY:\", cmy)\n",
    "print(\"HSI:\", hsi)\n",
    "print(\"YIQ:\", yiq)"
   ]
  },
  {
   "cell_type": "code",
   "execution_count": null,
   "metadata": {},
   "outputs": [],
   "source": []
  }
 ],
 "metadata": {
  "kernelspec": {
   "display_name": "Python 3",
   "language": "python",
   "name": "python3"
  },
  "language_info": {
   "codemirror_mode": {
    "name": "ipython",
    "version": 3
   },
   "file_extension": ".py",
   "mimetype": "text/x-python",
   "name": "python",
   "nbconvert_exporter": "python",
   "pygments_lexer": "ipython3",
   "version": "3.12.0"
  }
 },
 "nbformat": 4,
 "nbformat_minor": 2
}
